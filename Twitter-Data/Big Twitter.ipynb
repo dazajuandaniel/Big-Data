{
 "cells": [
  {
   "cell_type": "code",
   "execution_count": 18,
   "metadata": {},
   "outputs": [],
   "source": [
    "import json, ijson"
   ]
  },
  {
   "cell_type": "code",
   "execution_count": 15,
   "metadata": {},
   "outputs": [
    {
     "name": "stdout",
     "output_type": "stream",
     "text": [
      "<type 'unicode'> [\n",
      "\n"
     ]
    }
   ],
   "source": [
    "count = 0 \n",
    "with open(r'C:\\Users\\User\\Desktop\\CCC Tweets\\tinyTwitter.json', 'r') as fh:\n",
    "    for line in fh:\n",
    "        count += 1\n",
    "        tweet = json.dumps(line)\n",
    "        tweet_dict = json.loads(tweet)\n",
    "        if count == 1:\n",
    "            print type(tweet_dict), twee"
   ]
  },
  {
   "cell_type": "code",
   "execution_count": 81,
   "metadata": {},
   "outputs": [
    {
     "name": "stdout",
     "output_type": "stream",
     "text": [
      "[Decimal('-34.92320424'), Decimal('138.59870907')]\n"
     ]
    }
   ],
   "source": [
    "coord_list=[]\n",
    "f = open(r'C:\\Users\\User\\Desktop\\CCC Tweets\\tinyTwitter.json',\"r\")\n",
    "objects = ijson.items(f,'item.json')\n",
    "for ind,it in enumerate(objects):\n",
    "    if ind < 1:\n",
    "        print it['geo']['coordinates']\n",
    "        #print it['place']['bounding_box']['coordinates'][0][3][2]\n",
    "        #rint type(float(it['coordinates']['coordinates'][1]))\n",
    "       #print int(it['coordinates']['coordinates'][1])"
   ]
  },
  {
   "cell_type": "code",
   "execution_count": null,
   "metadata": {
    "collapsed": true
   },
   "outputs": [],
   "source": []
  }
 ],
 "metadata": {
  "kernelspec": {
   "display_name": "Python 2",
   "language": "python",
   "name": "python2"
  },
  "language_info": {
   "codemirror_mode": {
    "name": "ipython",
    "version": 2
   },
   "file_extension": ".py",
   "mimetype": "text/x-python",
   "name": "python",
   "nbconvert_exporter": "python",
   "pygments_lexer": "ipython2",
   "version": "2.7.13"
  }
 },
 "nbformat": 4,
 "nbformat_minor": 2
}
