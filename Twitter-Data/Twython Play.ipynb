{
 "cells": [
  {
   "cell_type": "code",
   "execution_count": 1,
   "metadata": {},
   "outputs": [],
   "source": [
    "from twython import Twython"
   ]
  },
  {
   "cell_type": "code",
   "execution_count": 2,
   "metadata": {
    "collapsed": true
   },
   "outputs": [],
   "source": [
    "import secret"
   ]
  },
  {
   "cell_type": "code",
   "execution_count": 3,
   "metadata": {
    "collapsed": true
   },
   "outputs": [],
   "source": [
    "APP_KEY = secret.CONSUMER_KEY\n",
    "APP_SECRET = secret.CONSUMER_SECRET\n",
    "\n",
    "twitter = Twython(APP_KEY, APP_SECRET, oauth_version=2)\n",
    "ACCESS_TOKEN = twitter.obtain_access_token()\n",
    "\n",
    "\n",
    "twitter = Twython(APP_KEY, access_token=ACCESS_TOKEN)"
   ]
  },
  {
   "cell_type": "code",
   "execution_count": 5,
   "metadata": {},
   "outputs": [],
   "source": [
    "tweets=twitter.search(q='python')"
   ]
  },
  {
   "cell_type": "code",
   "execution_count": 47,
   "metadata": {},
   "outputs": [
    {
     "data": {
      "text/plain": [
       "long"
      ]
     },
     "execution_count": 47,
     "metadata": {},
     "output_type": "execute_result"
    }
   ],
   "source": [
    "type(tweets['search_metadata']['max_id'])"
   ]
  },
  {
   "cell_type": "code",
   "execution_count": 26,
   "metadata": {
    "collapsed": true
   },
   "outputs": [],
   "source": [
    "?twitter.search"
   ]
  },
  {
   "cell_type": "code",
   "execution_count": 39,
   "metadata": {},
   "outputs": [
    {
     "name": "stdout",
     "output_type": "stream",
     "text": [
      "2017-06-23 10:07:23 ERROR    'dict' object has no attribute '_json'\n",
      "2017-06-23 10:07:23 ERROR    'dict' object has no attribute '_json'\n",
      "2017-06-23 10:07:23 ERROR    'dict' object has no attribute '_json'\n",
      "2017-06-23 10:07:23 ERROR    'dict' object has no attribute '_json'\n",
      "2017-06-23 10:07:23 ERROR    'dict' object has no attribute '_json'\n",
      "2017-06-23 10:07:23 ERROR    'dict' object has no attribute '_json'\n",
      "2017-06-23 10:07:23 ERROR    'dict' object has no attribute '_json'\n",
      "2017-06-23 10:07:23 ERROR    'dict' object has no attribute '_json'\n",
      "2017-06-23 10:07:23 ERROR    'dict' object has no attribute '_json'\n",
      "2017-06-23 10:07:23 ERROR    'dict' object has no attribute '_json'\n"
     ]
    },
    {
     "ename": "SystemExit",
     "evalue": "",
     "output_type": "error",
     "traceback": [
      "An exception has occurred, use %tb to see the full traceback.\n",
      "\u001b[1;31mSystemExit\u001b[0m\n"
     ]
    }
   ],
   "source": [
    "from twython import Twython\n",
    "import secret\n",
    "#Database\n",
    "import json,jsonpickle\n",
    "\n",
    "from app_config import setup_custom_logger\n",
    "logger=setup_custom_logger(__name__,'log/SearchHarvester_twython.log')\n",
    "\n",
    "import sys,os,time\n",
    "start_time = time.time()\n",
    "\n",
    "\n",
    "APP_KEY = secret.CONSUMER_KEY\n",
    "APP_SECRET = secret.CONSUMER_SECRET\n",
    "\n",
    "twitter = Twython(APP_KEY, APP_SECRET, oauth_version=2)\n",
    "ACCESS_TOKEN = twitter.obtain_access_token()\n",
    "\n",
    "twitter = Twython(APP_KEY, access_token=ACCESS_TOKEN)\n",
    "\n",
    "\n",
    "# Search Criteria\n",
    "lang = 'en'\n",
    "#Melbourne Area\n",
    "geocode = '-37.810279,144.962619,100000mi'\n",
    "\n",
    "words=['#Australia','permanent migration program',\n",
    "       \"visa change\",'sponsorship australia',\"Skilled visa\",\n",
    "       \"Visa\",\"Visa law\",\"Migration Australia\",\"Immigrant\",\n",
    "       \"Citizenship Australia\",\"Permanent resident,\",\"Visa subclass,\",\n",
    "       \"visa 457\",\"student visa Australia,\",\"international students,\",\n",
    "       \"partner visa\",\"skilled migration\",\"skilled occupation list,\",\n",
    "       \"student migration\",\"general skilled immigration,\",\"migration,\",\n",
    "       \"department of immigration\",\"work visa\",\"refugee\",\"migration policy\",\"visa policy\"\n",
    "       'CCA','australia','customer service','customer','amazon','field service','utility']\n",
    "\n",
    "searchList=words\n",
    "maxTweets = 100000000000000\n",
    "tweetsPerQry = 100\n",
    "sinceId = None\n",
    "max_id = -1L\n",
    "\n",
    "\n",
    "searchListCount=8\n",
    "maxlistcount=len(searchList)\n",
    "tweetCount = 0\n",
    "duplicates = 0\n",
    "success = 0\n",
    "while tweetCount < maxTweets:\n",
    "    \n",
    "    if searchListCount>maxlistcount-1:\n",
    "        searchListCount=0\n",
    "\n",
    "    searchQuery=searchList[searchListCount]\n",
    "    try:\n",
    "        if (max_id <= 0):\n",
    "            if (not sinceId):\n",
    "                new_tweets = twitter.search(q=searchQuery, count=tweetsPerQry,lang=lang,geocode=geocode)\n",
    "            else:\n",
    "                new_tweets = twitter.search(q=searchQuery, count=tweetsPerQry,lang=lang,geocode=geocode,\n",
    "                                        since_id=sinceId)\n",
    "        else:\n",
    "            if (not sinceId):\n",
    "                new_tweets = twitter.search(q=searchQuery, count=tweetsPerQry,lang=lang,geocode=geocode,\n",
    "                                        max_id=str(max_id - 1))\n",
    "            else:\n",
    "                new_tweets = twitter.search(q=searchQuery, count=tweetsPerQry,lang=lang,geocode=geocode,\n",
    "                                        max_id=str(max_id - 1),\n",
    "                                        since_id=sinceId)\n",
    "        if not new_tweets:\n",
    "            \n",
    "            if tweetCount%18000==0:\n",
    "                time.sleep(15*60)\n",
    "                logger.warning('Reached 18k limit, sleeping for 15 minutes')\n",
    "                start_time=time.time()  \n",
    "            end = time.time()\n",
    "            if (end-start_time)>14*60:\n",
    "                time.sleep(15*60)\n",
    "                logger.warning('Reached 15 minute limit, sleeping for 15 minutes')\n",
    "                start_time=time.time()\n",
    "            searchListCount+=1\n",
    "            max_id = -1L\n",
    "            sinceId = None\n",
    "            continue\n",
    "        \n",
    "        for tweet in new_tweets['statuses']:\n",
    "            tweet_ = json.loads(jsonpickle.encode(tweet._json, unpicklable=False))\n",
    "            print 1\n",
    "            clean_tweet_text=TwitterSentiment.processTweet(tweet_['text'])\n",
    "            sentiment=TwitterSentiment.getSentiment(clean_tweet_text)\n",
    "            tweet_['sentiment']=sentiment\n",
    "            tweet_['clean_text']=clean_tweet_text\n",
    "            tweet_['_id']=tweet_['id_str']\n",
    "            print tweet_\n",
    "                \n",
    "        tweetCount += len(new_tweets)\n",
    "        max_id = new_tweets[-1].id\n",
    "\n",
    "    except Exception as e:\n",
    "        logger.error(e)\n",
    "        sys.exit()"
   ]
  },
  {
   "cell_type": "code",
   "execution_count": null,
   "metadata": {
    "collapsed": true
   },
   "outputs": [],
   "source": []
  }
 ],
 "metadata": {
  "kernelspec": {
   "display_name": "Python 2",
   "language": "python",
   "name": "python2"
  },
  "language_info": {
   "codemirror_mode": {
    "name": "ipython",
    "version": 2
   },
   "file_extension": ".py",
   "mimetype": "text/x-python",
   "name": "python",
   "nbconvert_exporter": "python",
   "pygments_lexer": "ipython2",
   "version": "2.7.13"
  }
 },
 "nbformat": 4,
 "nbformat_minor": 2
}
